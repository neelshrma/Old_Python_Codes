{
 "cells": [
  {
   "cell_type": "markdown",
   "metadata": {},
   "source": [
    "<h1 style='color:red'>What is a function ? </h1>"
   ]
  },
  {
   "cell_type": "code",
   "execution_count": null,
   "metadata": {},
   "outputs": [],
   "source": [
    "s = \"     Hello World    \"\n",
    "k = s.strip()\n",
    "l = s.lower()\n",
    "print(\"{!r}\".format(s))\n",
    "print(k)\n",
    "print(l)"
   ]
  },
  {
   "cell_type": "code",
   "execution_count": null,
   "metadata": {},
   "outputs": [],
   "source": [
    "s = \"     Hello World    \"\n",
    "s = s.strip()\n",
    "s = s.lower()\n",
    "print(\"{!r}\".format(s))\n"
   ]
  },
  {
   "cell_type": "code",
   "execution_count": null,
   "metadata": {},
   "outputs": [],
   "source": [
    "from random import randint\n",
    "x = randint(1,50)"
   ]
  },
  {
   "cell_type": "code",
   "execution_count": null,
   "metadata": {},
   "outputs": [],
   "source": [
    "def print(arg):\n",
    "    pass"
   ]
  },
  {
   "cell_type": "code",
   "execution_count": null,
   "metadata": {},
   "outputs": [],
   "source": [
    "print(\"Hello Word'\")"
   ]
  },
  {
   "cell_type": "code",
   "execution_count": null,
   "metadata": {},
   "outputs": [],
   "source": [
    "if = 5"
   ]
  },
  {
   "cell_type": "code",
   "execution_count": 1,
   "metadata": {},
   "outputs": [
    {
     "name": "stdout",
     "output_type": "stream",
     "text": [
      "Hello world\n"
     ]
    }
   ],
   "source": [
    "print(\"Hello world\")"
   ]
  },
  {
   "cell_type": "code",
   "execution_count": 2,
   "metadata": {},
   "outputs": [
    {
     "name": "stdout",
     "output_type": "stream",
     "text": [
      "sachin\n"
     ]
    }
   ],
   "source": [
    "x = input()"
   ]
  },
  {
   "cell_type": "code",
   "execution_count": 7,
   "metadata": {},
   "outputs": [
    {
     "name": "stdout",
     "output_type": "stream",
     "text": [
      "Welcome To Python\n"
     ]
    }
   ],
   "source": [
    "greeting()"
   ]
  },
  {
   "cell_type": "code",
   "execution_count": 4,
   "metadata": {},
   "outputs": [
    {
     "name": "stdout",
     "output_type": "stream",
     "text": [
      "hello world : hadksf\n"
     ]
    }
   ],
   "source": [
    "x = input(\"hello world : \")"
   ]
  },
  {
   "cell_type": "code",
   "execution_count": 5,
   "metadata": {},
   "outputs": [
    {
     "data": {
      "text/plain": [
       "'hadksf'"
      ]
     },
     "execution_count": 5,
     "metadata": {},
     "output_type": "execute_result"
    }
   ],
   "source": [
    "x"
   ]
  },
  {
   "cell_type": "code",
   "execution_count": 10,
   "metadata": {},
   "outputs": [],
   "source": [
    "def greeting():\n",
    "    print(\"Welcome To Python\")\n",
    "    return 'Enjoy Coding'\n",
    "    "
   ]
  },
  {
   "cell_type": "code",
   "execution_count": 11,
   "metadata": {},
   "outputs": [
    {
     "name": "stdout",
     "output_type": "stream",
     "text": [
      "Welcome To Python\n",
      "Enjoy Coding\n"
     ]
    }
   ],
   "source": [
    "x = greeting()\n",
    "print(x)"
   ]
  },
  {
   "cell_type": "code",
   "execution_count": 12,
   "metadata": {},
   "outputs": [
    {
     "name": "stdout",
     "output_type": "stream",
     "text": [
      "Enjoy Coding\n"
     ]
    }
   ],
   "source": [
    "def greeting():\n",
    "    return 'Enjoy Coding'\n",
    "    print(\"Welcome To Python\")\n",
    "    \n",
    "x = greeting()\n",
    "print(x)   "
   ]
  },
  {
   "cell_type": "code",
   "execution_count": 14,
   "metadata": {},
   "outputs": [
    {
     "name": "stdout",
     "output_type": "stream",
     "text": [
      "Welcome mr. sachin to the world of python     functions.\n",
      "Whola you have done a great work\n"
     ]
    }
   ],
   "source": [
    "def hello(name):\n",
    "    print(\"Welcome mr. {} to the world of python \\\n",
    "    functions.\".format(name))\n",
    "    return 0\n",
    "if hello('sachin'):\n",
    "    print(\"Function has some serious Issues\")\n",
    "else : \n",
    "    print(\"Whola you have done a great work\")"
   ]
  },
  {
   "cell_type": "code",
   "execution_count": 16,
   "metadata": {},
   "outputs": [
    {
     "name": "stdout",
     "output_type": "stream",
     "text": [
      "Enter a number : 16\n",
      "Given number is EVEN\n"
     ]
    }
   ],
   "source": [
    "def even(var):\n",
    "    if var % 2 : \n",
    "        return ''\n",
    "    else :\n",
    "        return 'a'\n",
    "\n",
    "if even(int(input(\"Enter a number : \"))) :\n",
    "    print(\"Given number is EVEN\")\n",
    "else : \n",
    "    print(\"Given number is ODD\")"
   ]
  },
  {
   "cell_type": "code",
   "execution_count": 18,
   "metadata": {},
   "outputs": [
    {
     "name": "stdout",
     "output_type": "stream",
     "text": [
      "Enter a number : 55\n",
      "Given number is EVEN\n"
     ]
    }
   ],
   "source": [
    "def even(var):\n",
    "    if var % 2 : \n",
    "        return True\n",
    "    else :\n",
    "        return False\n",
    "\n",
    "if even(int(input(\"Enter a number : \"))) :\n",
    "    print(\"Given number is EVEN\")\n",
    "else : \n",
    "    print(\"Given number is ODD\")"
   ]
  },
  {
   "cell_type": "code",
   "execution_count": 20,
   "metadata": {},
   "outputs": [
    {
     "name": "stdout",
     "output_type": "stream",
     "text": [
      "Enter a number : 12\n",
      "Given Number is :  EVEN\n"
     ]
    }
   ],
   "source": [
    "def even(var):\n",
    "    if var % 2 : \n",
    "        return 'ODD'\n",
    "    else :\n",
    "        return 'EVEN'\n",
    "\n",
    "print(\"Given Number is : \",even(int(input(\"Enter a number : \"))))"
   ]
  },
  {
   "cell_type": "code",
   "execution_count": null,
   "metadata": {},
   "outputs": [],
   "source": []
  }
 ],
 "metadata": {
  "kernelspec": {
   "display_name": "Python 3",
   "language": "python",
   "name": "python3"
  },
  "language_info": {
   "codemirror_mode": {
    "name": "ipython",
    "version": 3
   },
   "file_extension": ".py",
   "mimetype": "text/x-python",
   "name": "python",
   "nbconvert_exporter": "python",
   "pygments_lexer": "ipython3",
   "version": "3.6.5"
  }
 },
 "nbformat": 4,
 "nbformat_minor": 2
}

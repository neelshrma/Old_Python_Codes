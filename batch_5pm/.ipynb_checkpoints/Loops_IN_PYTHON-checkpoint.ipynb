{
 "cells": [
  {
   "cell_type": "code",
   "execution_count": 1,
   "metadata": {},
   "outputs": [
    {
     "name": "stdout",
     "output_type": "stream",
     "text": [
      "Hello world!This is python class. and today we learning about loops      is that right for you, or this syntax is right or not\n"
     ]
    }
   ],
   "source": [
    "print(\"Hello world!This is python class. and today we learning about loops\\\n",
    "      is that right for you, or this syntax is right or not\")"
   ]
  },
  {
   "cell_type": "code",
   "execution_count": 2,
   "metadata": {},
   "outputs": [
    {
     "name": "stdout",
     "output_type": "stream",
     "text": [
      "The Zen of Python, by Tim Peters\n",
      "\n",
      "Beautiful is better than ugly.\n",
      "Explicit is better than implicit.\n",
      "Simple is better than complex.\n",
      "Complex is better than complicated.\n",
      "Flat is better than nested.\n",
      "Sparse is better than dense.\n",
      "Readability counts.\n",
      "Special cases aren't special enough to break the rules.\n",
      "Although practicality beats purity.\n",
      "Errors should never pass silently.\n",
      "Unless explicitly silenced.\n",
      "In the face of ambiguity, refuse the temptation to guess.\n",
      "There should be one-- and preferably only one --obvious way to do it.\n",
      "Although that way may not be obvious at first unless you're Dutch.\n",
      "Now is better than never.\n",
      "Although never is often better than *right* now.\n",
      "If the implementation is hard to explain, it's a bad idea.\n",
      "If the implementation is easy to explain, it may be a good idea.\n",
      "Namespaces are one honking great idea -- let's do more of those!\n"
     ]
    }
   ],
   "source": [
    "import this"
   ]
  },
  {
   "cell_type": "code",
   "execution_count": 4,
   "metadata": {},
   "outputs": [
    {
     "name": "stdout",
     "output_type": "stream",
     "text": [
      "Hello World\n",
      "Hello World\n",
      "Hello World\n",
      "Hello World\n",
      "Hello World\n",
      "Hello World\n",
      "Hello World\n",
      "Hello World\n",
      "Hello World\n",
      "Hello World\n"
     ]
    }
   ],
   "source": [
    "c = 1\n",
    "while c <= 10 : \n",
    "    print(\"Hello World\")\n",
    "    c = c + 1\n",
    "    "
   ]
  },
  {
   "cell_type": "code",
   "execution_count": 5,
   "metadata": {},
   "outputs": [
    {
     "name": "stdout",
     "output_type": "stream",
     "text": [
      "Hello World Times 1.\n",
      "Hello World Times 2.\n",
      "Hello World Times 3.\n",
      "Hello World Times 4.\n",
      "Hello World Times 5.\n",
      "Hello World Times 6.\n",
      "Hello World Times 7.\n",
      "Hello World Times 8.\n",
      "Hello World Times 9.\n",
      "Hello World Times 10.\n"
     ]
    }
   ],
   "source": [
    "c = 1\n",
    "while c <= 10 : \n",
    "    print(\"Hello World Times {}.\".format(c))\n",
    "    c = c + 1\n",
    "    "
   ]
  },
  {
   "cell_type": "code",
   "execution_count": 8,
   "metadata": {},
   "outputs": [
    {
     "name": "stdout",
     "output_type": "stream",
     "text": [
      "Hello World Times 21.\n",
      "Hello World Times 42.\n",
      "Hello World Times 63.\n",
      "Hello World Times 84.\n"
     ]
    }
   ],
   "source": [
    "c = 1\n",
    "while c <= 100 :\n",
    "    if (c % 3 == 0) and (c % 7 == 0) : \n",
    "        print(\"Hello World Times {}.\".format(c))\n",
    "    c = c + 1"
   ]
  },
  {
   "cell_type": "code",
   "execution_count": 10,
   "metadata": {},
   "outputs": [
    {
     "name": "stdout",
     "output_type": "stream",
     "text": [
      "Enter a number : 13\n",
      "Table of 13 is - \n",
      "13x1=13\n",
      "13x2=26\n",
      "13x3=39\n",
      "13x4=52\n",
      "13x5=65\n",
      "13x6=78\n",
      "13x7=91\n",
      "13x8=104\n",
      "13x9=117\n",
      "13x10=130\n"
     ]
    }
   ],
   "source": [
    "num = int(input(\"Enter a number : \"))\n",
    "print(\"Table of {} is - \".format(num))\n",
    "\n",
    "c = 1\n",
    "while c <= 10 : \n",
    "    print(\"{}x{}={}\".format(num,c,num*c))\n",
    "    c = c + 1"
   ]
  },
  {
   "cell_type": "code",
   "execution_count": 11,
   "metadata": {},
   "outputs": [
    {
     "name": "stdout",
     "output_type": "stream",
     "text": [
      "Enter a number : 12\n",
      "12x1=12\n",
      "12x2=24\n",
      "12x3=36\n",
      "12x4=48\n",
      "12x5=60\n",
      "12x6=72\n",
      "12x7=84\n",
      "12x8=96\n",
      "12x9=108\n",
      "12x10=120\n"
     ]
    }
   ],
   "source": [
    "num = int(input(\"Enter a number : \"))\n",
    "c = 1\n",
    "s = 0\n",
    "while c <= 10 :\n",
    "    s = s + num\n",
    "    print(\"{}x{}={}\".format(num,c,s))\n",
    "    c = c + 1\n",
    "    "
   ]
  },
  {
   "cell_type": "code",
   "execution_count": 20,
   "metadata": {},
   "outputs": [
    {
     "data": {
      "text/plain": [
       "18"
      ]
     },
     "execution_count": 20,
     "metadata": {},
     "output_type": "execute_result"
    }
   ],
   "source": [
    "from random import randint\n",
    "randint(1,50) #will generate a random number in range 1 - 50 "
   ]
  },
  {
   "cell_type": "code",
   "execution_count": 36,
   "metadata": {},
   "outputs": [
    {
     "name": "stdout",
     "output_type": "stream",
     "text": [
      "\n",
      "\n",
      "Press any key to continue again : k\n",
      "\n",
      "\n",
      "\n",
      "Your Guess (1,50) : 25\n",
      "Be Big Think Big\n",
      "\n",
      "\n",
      "\n",
      "Your Guess (1,50) : 13\n",
      "Be Big Think Big\n",
      "\n",
      "\n",
      "\n",
      "Your Guess (1,50) : 7\n",
      "Be Big Think Big\n",
      "\n",
      "\n",
      "\n",
      "Your Guess (1,50) : 3\n",
      "Be Big Think Big\n",
      "\n",
      "\n",
      "\n",
      "Your Guess (1,50) : 2\n",
      "Be Big Think Big\n",
      "You have loose this game\n",
      "\n",
      "\n",
      "\n",
      "\n",
      "\n",
      "Press any key to continue again : k\n",
      "\n",
      "\n",
      "\n",
      "\n",
      "\n",
      "Press any key to continue again : \n"
     ]
    }
   ],
   "source": [
    "from random import randint\n",
    "comGuess = randint(1,50)\n",
    "chances = 5\n",
    "while input(\"\\n\\nPress any key to continue again : \") :\n",
    "    print(\"\\n\\n\")\n",
    "    while chances :\n",
    "        userGuess = int(input(\"Your Guess (1,50) : \"))\n",
    "        if userGuess < comGuess : \n",
    "            print(\"Be Big Think Big\")\n",
    "        elif userGuess > comGuess :  \n",
    "            print(\"Be in Limits Think Lower\")\n",
    "        else :\n",
    "            print(\"Whola!!! You have Win This Game\")\n",
    "            break\n",
    "\n",
    "        if chances == 1 : \n",
    "            print(\"You have loose this game\")\n",
    "        chances -= 1\n",
    "        print(\"\\n\\n\")"
   ]
  },
  {
   "cell_type": "code",
   "execution_count": 25,
   "metadata": {},
   "outputs": [
    {
     "name": "stdout",
     "output_type": "stream",
     "text": [
      "Hello World\n",
      "Hello World\n"
     ]
    }
   ],
   "source": [
    "c = 1 \n",
    "while c <= 5 : \n",
    "    if c == 3 : \n",
    "        break\n",
    "    print(\"Hello World\")\n",
    "    c = c + 1"
   ]
  },
  {
   "cell_type": "code",
   "execution_count": 27,
   "metadata": {},
   "outputs": [
    {
     "name": "stdout",
     "output_type": "stream",
     "text": [
      "Hello World\n",
      "Hello World\n",
      "bye\n",
      "Hello World\n",
      "Hello World\n",
      "Hello World\n",
      "Your sucessfully done it's work\n"
     ]
    }
   ],
   "source": [
    "c = 1 \n",
    "while c <= 5 : \n",
    "    if c == 3 : \n",
    "        #break\n",
    "        print(\"bye\")\n",
    "    print(\"Hello World\")\n",
    "    c = c + 1\n",
    "else : \n",
    "    print(\"Your sucessfully done it's work\")"
   ]
  },
  {
   "cell_type": "code",
   "execution_count": 31,
   "metadata": {},
   "outputs": [
    {
     "name": "stdout",
     "output_type": "stream",
     "text": [
      "Enter starting Point : 1\n",
      "Enter ending Point : 10000\n",
      "55, 110, 165, 220, 275, 330, 385, 440, 495, 550, 605, 660, 715, 770, 825, 880, 935, 990, 1045, 1100, 1155, 1210, 1265, 1320, 1375, 1430, 1485, 1540, 1595, 1650, 1705, 1760, 1815, 1870, 1925, 1980, 2035, 2090, 2145, 2200, 2255, 2310, 2365, 2420, 2475, 2530, 2585, 2640, 2695, 2750, 2805, 2860, 2915, 2970, 3025, 3080, 3135, 3190, 3245, 3300, 3355, 3410, 3465, 3520, 3575, 3630, 3685, 3740, 3795, 3850, 3905, 3960, 4015, 4070, 4125, 4180, 4235, 4290, 4345, 4400, 4455, 4510, 4565, 4620, 4675, 4730, 4785, 4840, 4895, 4950, 5005, 5060, 5115, 5170, 5225, 5280, 5335, 5390, 5445, 5500, 5555, 5610, 5665, 5720, 5775, 5830, 5885, 5940, 5995, 6050, 6105, 6160, 6215, 6270, 6325, 6380, 6435, 6490, 6545, 6600, 6655, 6710, 6765, 6820, 6875, 6930, 6985, 7040, 7095, 7150, 7205, 7260, 7315, 7370, 7425, 7480, 7535, 7590, 7645, 7700, 7755, 7810, 7865, 7920, 7975, 8030, 8085, 8140, 8195, 8250, 8305, 8360, 8415, 8470, 8525, 8580, 8635, 8690, 8745, 8800, 8855, 8910, 8965, 9020, 9075, 9130, 9185, 9240, 9295, 9350, 9405, 9460, 9515, 9570, 9625, 9680, 9735, 9790, 9845, 9900, 9955, "
     ]
    }
   ],
   "source": [
    "s = int(input(\"Enter starting Point : \"))\n",
    "e = int(input(\"Enter ending Point : \"))\n",
    "\n",
    "while s <= e : \n",
    "    \n",
    "    if s % 5 == 0 and s % 11 == 0 : \n",
    "        print(s,end=', ')\n",
    "    s = s + 1"
   ]
  },
  {
   "cell_type": "code",
   "execution_count": 3,
   "metadata": {},
   "outputs": [
    {
     "name": "stdout",
     "output_type": "stream",
     "text": [
      "Enter a number : 6\n",
      "Factorial of 6 is 720.\n"
     ]
    }
   ],
   "source": [
    "#factorial of a number\n",
    "num = int(input(\"Enter a number : \"))\n",
    "copy_num = num\n",
    "fact = 1\n",
    "while num :\n",
    "    fact = fact * num\n",
    "    num = num - 1\n",
    "\n",
    "print(\"Factorial of {} is {}.\".format(copy_num,fact))\n",
    "    \n"
   ]
  },
  {
   "cell_type": "code",
   "execution_count": 9,
   "metadata": {},
   "outputs": [
    {
     "name": "stdout",
     "output_type": "stream",
     "text": [
      "Enter a number : 127\n",
      "Given number 127 is a Prime Number.\n"
     ]
    }
   ],
   "source": [
    "#prime number\n",
    "num = int(input(\"Enter a number : \"))\n",
    "\n",
    "check_value = 2\n",
    "while check_value <= num -1 :   \n",
    "    if num % check_value == 0 : \n",
    "        print(\"Given number {} is not a Prime Number.\".format(num))\n",
    "        break\n",
    "    check_value += 1\n",
    "else : \n",
    "    print(\"Given number {} is a Prime Number.\".format(num))"
   ]
  },
  {
   "cell_type": "code",
   "execution_count": 11,
   "metadata": {},
   "outputs": [
    {
     "name": "stdout",
     "output_type": "stream",
     "text": [
      "Enter a number : 1234\n",
      "Given number 1234 is not a Palindrome number.\n"
     ]
    }
   ],
   "source": [
    "#palindrome number\n",
    "#short-cut method\n",
    "num = input(\"Enter a number : \") # you know input is a string\n",
    "\n",
    "if num == num[::-1] : #get it ? \n",
    "    print(\"Given number {} is Palindrome.\".format(num))\n",
    "else : \n",
    "    print(\"Given number {} is not a Palindrome number.\".format(num))\n"
   ]
  },
  {
   "cell_type": "code",
   "execution_count": 13,
   "metadata": {},
   "outputs": [
    {
     "name": "stdout",
     "output_type": "stream",
     "text": [
      "Enter a number : 1234\n",
      "Given number 1234 is not Palindrome number.\n"
     ]
    }
   ],
   "source": [
    "#maths way or the hard way\n",
    "#palindrome number \n",
    "num = int(input(\"Enter a number : \"))\n",
    "copy = num #for later use to check \n",
    "rev_num = 0\n",
    "while num : \n",
    "    last_digit = num % 10  #taking out the last digit\n",
    "    rev_num = rev_num * 10 + last_digit #making new number\n",
    "    num = num // 10 #update number\n",
    "if rev_num == copy : \n",
    "    print(\"Given number {} is Palindrome number.\".format(copy))\n",
    "else : \n",
    "    print(\"Given number {} is not Palindrome number.\".format(copy))\n"
   ]
  },
  {
   "cell_type": "code",
   "execution_count": 17,
   "metadata": {},
   "outputs": [
    {
     "name": "stdout",
     "output_type": "stream",
     "text": [
      "Enter a number : 12345\n",
      "Given Number is not an armstrong number\n"
     ]
    }
   ],
   "source": [
    "#armstrong number\n",
    "#easy method \n",
    "#python way\n",
    "num = input(\"Enter a number : \")\n",
    "end = len(num)\n",
    "power = len(num)\n",
    "start = 0\n",
    "armstrong = 0\n",
    "while start < end : \n",
    "    armstrong = armstrong + int(num[start])**power\n",
    "    start = start + 1\n",
    "\n",
    "if armstrong == int(num) : \n",
    "    print(\"Given Number is an armstrong number \")\n",
    "else : \n",
    "    print(\"Given Number is not an armstrong number\")\n"
   ]
  },
  {
   "cell_type": "code",
   "execution_count": 20,
   "metadata": {},
   "outputs": [
    {
     "name": "stdout",
     "output_type": "stream",
     "text": [
      "Enter a number : 1234\n",
      "Given number 1234 is not an armstrong number.\n"
     ]
    }
   ],
   "source": [
    "#real way\n",
    "#the hard way (maths way)\n",
    "#armstrong num\n",
    "num = int(input(\"Enter a number : \")) \n",
    "copy = num #making copy of a number\n",
    "power = 0 \n",
    "while num : \n",
    "    num = num // 10 \n",
    "    power = power + 1\n",
    "num = copy #reterving the real number again\n",
    "armstrong = 0\n",
    "while num : \n",
    "    last_digit = num % 10 \n",
    "    armstrong = armstrong + last_digit ** power\n",
    "    num = num // 10 \n",
    "\n",
    "if armstrong == copy : \n",
    "    print(\"Given number {} is an armstrong number.\".format(copy))\n",
    "else : \n",
    "    print(\"Given number {} is not an armstrong number.\".format(copy))\n"
   ]
  },
  {
   "cell_type": "code",
   "execution_count": 28,
   "metadata": {},
   "outputs": [
    {
     "name": "stdout",
     "output_type": "stream",
     "text": [
      "hello\n",
      "1\n",
      "2\n",
      "3\n",
      "hi\n",
      "bye bye\n",
      "good to go\n",
      "let'do it\n",
      "7\n",
      "34\n",
      "\n",
      "\n",
      "\n",
      "\n",
      "34\n",
      "7\n",
      "let'do it\n",
      "good to go\n",
      "bye bye\n",
      "hi\n",
      "3\n",
      "2\n",
      "1\n",
      "hello\n"
     ]
    }
   ],
   "source": [
    "l = [ 'hello',1,2,3,'hi','bye bye','good to go','let\\'do it',7,34,]\n",
    "index = 0\n",
    "while index < len(l) : \n",
    "    print(l[index])\n",
    "    index = index  + 1\n",
    "print(\"\\n\\n\\n\")\n",
    "index = len(l)-1\n",
    "while index >= 0 : \n",
    "    print(l[index])\n",
    "    index -= 1"
   ]
  },
  {
   "cell_type": "code",
   "execution_count": 30,
   "metadata": {},
   "outputs": [
    {
     "name": "stdout",
     "output_type": "stream",
     "text": [
      "*\n",
      "**\n",
      "***\n",
      "****\n",
      "*****\n",
      "******\n",
      "*******\n",
      "********\n",
      "*********\n",
      "**********\n",
      "***********\n"
     ]
    }
   ],
   "source": [
    "row = 0\n",
    "while row <= 10 : \n",
    "    column = 0\n",
    "    while column <= row :\n",
    "        print(\"*\",end='')\n",
    "        column += 1\n",
    "    print()\n",
    "    row += 1"
   ]
  },
  {
   "cell_type": "code",
   "execution_count": 35,
   "metadata": {},
   "outputs": [
    {
     "name": "stdout",
     "output_type": "stream",
     "text": [
      "Enter something : dkf\n",
      "Hey, Hello to python Programing\n",
      "Enter something : \n",
      "Thanks for using our program\n"
     ]
    }
   ],
   "source": [
    "while input(\"Enter something : \") : \n",
    "    print(\"Hey, Hello to python Programing\")\n",
    "\n",
    "else : \n",
    "    print(\"Thanks for using our program\")"
   ]
  },
  {
   "cell_type": "code",
   "execution_count": null,
   "metadata": {},
   "outputs": [],
   "source": []
  }
 ],
 "metadata": {
  "kernelspec": {
   "display_name": "Python 3",
   "language": "python",
   "name": "python3"
  },
  "language_info": {
   "codemirror_mode": {
    "name": "ipython",
    "version": 3
   },
   "file_extension": ".py",
   "mimetype": "text/x-python",
   "name": "python",
   "nbconvert_exporter": "python",
   "pygments_lexer": "ipython3",
   "version": "3.6.5"
  }
 },
 "nbformat": 4,
 "nbformat_minor": 2
}
